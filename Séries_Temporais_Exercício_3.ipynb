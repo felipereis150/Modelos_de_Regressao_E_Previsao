{
  "nbformat": 4,
  "nbformat_minor": 0,
  "metadata": {
    "colab": {
      "name": "Séries Temporais - Exercício 3.ipynb",
      "provenance": [],
      "authorship_tag": "ABX9TyNG+NR0SxjcNlWug5Wb1+9Z"
    },
    "kernelspec": {
      "name": "ir",
      "display_name": "R"
    },
    "language_info": {
      "name": "R"
    }
  },
  "cells": [
    {
      "cell_type": "markdown",
      "source": [
        "Importe os dados (ver slide 5)\n",
        "A variável ano_mes ainda não está como estrutura tempora. Transforme ela para formato temporal com a função yearmonth e convirta seu dataset para um dataset em formato de série temporal (ver slide 5)\n",
        "Utilize a função stretch_tsibble() para criar vários conjuntos de treinamento. Defina .init = 50 e .step = 1. (ver slide 22)\n",
        "Ajuste um modelo SNAIVE() (SNAIVE(temp_media~lag(12))), faça a previsão \n",
        "h\n",
        "=\n",
        "3\n",
        " passos à frente (para cada conjunto de treinamento) e finalmente avalie o desempenho do modelo com a função accuracy(). (ver slide 22)\n",
        "Qual modelo teve um melhor desempenho fora da amostra, o modelo SNAIVE ou o modelo desenvolvido na aula? (compare o RMSE e o MAE)."
      ],
      "metadata": {
        "id": "-53jINazvwVp"
      }
    },
    {
      "cell_type": "code",
      "source": [
        "install.packages(\"fpp3\")"
      ],
      "metadata": {
        "colab": {
          "base_uri": "https://localhost:8080/"
        },
        "id": "5h1luZwovpLh",
        "outputId": "8f21dd8a-1b6c-4a42-cfeb-a56c6014fde8"
      },
      "execution_count": null,
      "outputs": [
        {
          "output_type": "stream",
          "name": "stderr",
          "text": [
            "Installing package into ‘/usr/local/lib/R/site-library’\n",
            "(as ‘lib’ is unspecified)\n",
            "\n",
            "also installing the dependencies ‘numDeriv’, ‘warp’, ‘BH’, ‘distributional’, ‘progressr’, ‘slider’, ‘anytime’, ‘fable’, ‘fabletools’, ‘feasts’, ‘tsibble’, ‘tsibbledata’, ‘urca’\n",
            "\n",
            "\n",
            "── \u001b[1mAttaching packages\u001b[22m ──────────────────────────────────────────── fpp3 0.4.0 ──\n",
            "\n",
            "\u001b[32m✔\u001b[39m \u001b[34mtibble     \u001b[39m 3.1.6     \u001b[32m✔\u001b[39m \u001b[34mtsibble    \u001b[39m 1.1.1\n",
            "\u001b[32m✔\u001b[39m \u001b[34mdplyr      \u001b[39m 1.0.7     \u001b[32m✔\u001b[39m \u001b[34mtsibbledata\u001b[39m 0.4.0\n",
            "\u001b[32m✔\u001b[39m \u001b[34mtidyr      \u001b[39m 1.1.4     \u001b[32m✔\u001b[39m \u001b[34mfeasts     \u001b[39m 0.2.2\n",
            "\u001b[32m✔\u001b[39m \u001b[34mlubridate  \u001b[39m 1.8.0     \u001b[32m✔\u001b[39m \u001b[34mfable      \u001b[39m 0.3.1\n",
            "\n",
            "Warning message in system(\"timedatectl\", intern = TRUE):\n",
            "“running command 'timedatectl' had status 1”\n",
            "── \u001b[1mConflicts\u001b[22m ───────────────────────────────────────────────── fpp3_conflicts ──\n",
            "\u001b[31m✖\u001b[39m \u001b[34mlubridate\u001b[39m::\u001b[32mdate()\u001b[39m    masks \u001b[34mbase\u001b[39m::date()\n",
            "\u001b[31m✖\u001b[39m \u001b[34mdplyr\u001b[39m::\u001b[32mfilter()\u001b[39m      masks \u001b[34mstats\u001b[39m::filter()\n",
            "\u001b[31m✖\u001b[39m \u001b[34mtsibble\u001b[39m::\u001b[32mintersect()\u001b[39m masks \u001b[34mbase\u001b[39m::intersect()\n",
            "\u001b[31m✖\u001b[39m \u001b[34mtsibble\u001b[39m::\u001b[32minterval()\u001b[39m  masks \u001b[34mlubridate\u001b[39m::interval()\n",
            "\u001b[31m✖\u001b[39m \u001b[34mdplyr\u001b[39m::\u001b[32mlag()\u001b[39m         masks \u001b[34mstats\u001b[39m::lag()\n",
            "\u001b[31m✖\u001b[39m \u001b[34mtsibble\u001b[39m::\u001b[32msetdiff()\u001b[39m   masks \u001b[34mbase\u001b[39m::setdiff()\n",
            "\u001b[31m✖\u001b[39m \u001b[34mtsibble\u001b[39m::\u001b[32munion()\u001b[39m     masks \u001b[34mbase\u001b[39m::union()\n",
            "\n"
          ]
        }
      ]
    },
    {
      "cell_type": "code",
      "source": [
        "library(ggplot2)\n",
        "library(slider)\n",
        "library(fpp3)\n",
        "library(tsibble)"
      ],
      "metadata": {
        "id": "Z15_JyQgx--T"
      },
      "execution_count": null,
      "outputs": []
    },
    {
      "cell_type": "code",
      "source": [
        "df <- read.csv(\"https://raw.githubusercontent.com/ctruciosm/ctruciosm.github.io/master/datasets/lajeado_rs.csv\", sep = \";\")\n",
        "glimpse(df)"
      ],
      "metadata": {
        "colab": {
          "base_uri": "https://localhost:8080/"
        },
        "id": "NFCe_2Afv6FR",
        "outputId": "605b8c08-a895-421a-bc54-274fd9f7ce88"
      },
      "execution_count": null,
      "outputs": [
        {
          "output_type": "stream",
          "name": "stdout",
          "text": [
            "Rows: 79\n",
            "Columns: 4\n",
            "$ ano_mes    \u001b[3m\u001b[90m<chr>\u001b[39m\u001b[23m \"2015-01\", \"2015-02\", \"2015-03\", \"2015-04\", \"2015-05\", \"201…\n",
            "$ temp_media \u001b[3m\u001b[90m<dbl>\u001b[39m\u001b[23m 25.6, 24.8, 24.2, 21.2, 18.5, 16.2, 15.9, 21.0, 17.8, 19.4,…\n",
            "$ temp_max   \u001b[3m\u001b[90m<dbl>\u001b[39m\u001b[23m 39.0, 35.1, 34.7, 32.4, 30.8, 29.7, 29.2, 34.2, 30.0, 35.0,…\n",
            "$ temp_min   \u001b[3m\u001b[90m<dbl>\u001b[39m\u001b[23m 17.2, 17.5, 15.7, 13.4, 8.4, 4.7, 6.5, 9.5, 4.5, 9.0, 12.5,…\n"
          ]
        }
      ]
    },
    {
      "cell_type": "code",
      "source": [
        "df <- df %>% \n",
        "  mutate(ano_mes = yearmonth(ano_mes)) %>% \n",
        "  select(ano_mes, temp_media) %>% \n",
        "  as_tsibble(index = ano_mes)\n",
        "glimpse(df)"
      ],
      "metadata": {
        "colab": {
          "base_uri": "https://localhost:8080/"
        },
        "id": "m2faYXej3R6w",
        "outputId": "91db875f-c83e-42cb-f2ed-77190b71013e"
      },
      "execution_count": null,
      "outputs": [
        {
          "output_type": "stream",
          "name": "stdout",
          "text": [
            "Rows: 79\n",
            "Columns: 2\n",
            "$ ano_mes    \u001b[3m\u001b[90m<mth>\u001b[39m\u001b[23m 2015 Jan, 2015 Feb, 2015 Mar, 2015 Apr, 2015 May, 2015 Jun,…\n",
            "$ temp_media \u001b[3m\u001b[90m<dbl>\u001b[39m\u001b[23m 25.6, 24.8, 24.2, 21.2, 18.5, 16.2, 15.9, 21.0, 17.8, 19.4,…\n"
          ]
        }
      ]
    },
    {
      "cell_type": "code",
      "source": [
        "df2 <- df %>% \n",
        "  stretch_tsibble(.init = 3, .step = 1) \n",
        "glimpse(df2)"
      ],
      "metadata": {
        "colab": {
          "base_uri": "https://localhost:8080/"
        },
        "id": "OW2aF9hf4FIZ",
        "outputId": "a13d201b-def4-4305-fb1a-6db9bfde77c9"
      },
      "execution_count": null,
      "outputs": [
        {
          "output_type": "stream",
          "name": "stdout",
          "text": [
            "Rows: 3,157\n",
            "Columns: 3\n",
            "Key: .id [77]\n",
            "$ ano_mes    \u001b[3m\u001b[90m<mth>\u001b[39m\u001b[23m 2015 Jan, 2015 Feb, 2015 Mar, 2015 Jan, 2015 Feb, 2015 Mar,…\n",
            "$ temp_media \u001b[3m\u001b[90m<dbl>\u001b[39m\u001b[23m 25.6, 24.8, 24.2, 25.6, 24.8, 24.2, 21.2, 25.6, 24.8, 24.2,…\n",
            "$ .id        \u001b[3m\u001b[90m<int>\u001b[39m\u001b[23m 1, 1, 1, 2, 2, 2, 2, 3, 3, 3, 3, 3, 4, 4, 4, 4, 4, 4, 5, 5,…\n"
          ]
        }
      ]
    },
    {
      "cell_type": "code",
      "source": [
        "df2 %>%\n",
        "  model(RW(temp_media ~ drift())) %>%\n",
        "  forecast(h = 3) %>%\n",
        "  group_by(.id) %>%\n",
        "  mutate(h = row_number()) %>%\n",
        "  ungroup() %>% \n",
        "  accuracy(df, by = c(\"h\", \".model\"))"
      ],
      "metadata": {
        "colab": {
          "base_uri": "https://localhost:8080/",
          "height": 244
        },
        "id": "9RbLmXLy4W_6",
        "outputId": "62fe0dfc-b819-4cda-9ec1-3b8d6b61c6bf"
      },
      "execution_count": null,
      "outputs": [
        {
          "output_type": "stream",
          "name": "stderr",
          "text": [
            "Warning message:\n",
            "“The future dataset is incomplete, incomplete out-of-sample data will be treated as missing. \n",
            "3 observations are missing between 2021 Aug and 2021 Oct”\n"
          ]
        },
        {
          "output_type": "display_data",
          "data": {
            "text/plain": [
              "  h .model                   .type ME        RMSE     MAE      MPE       \n",
              "1 1 RW(temp_media ~ drift()) Test  0.1275780 2.637200 2.100578 -0.1784376\n",
              "2 2 RW(temp_media ~ drift()) Test  0.2988178 4.390662 3.764133 -0.8372524\n",
              "3 3 RW(temp_media ~ drift()) Test  0.5241629 6.017084 5.362942 -1.6593484\n",
              "  MAPE     MASE     RMSSE    ACF1     \n",
              "1 10.91851 1.534774 1.483226 0.3068485\n",
              "2 19.56643 2.750239 2.469416 0.6907249\n",
              "3 27.85476 3.918398 3.384155 0.7608784"
            ],
            "text/latex": "A tibble: 3 × 11\n\\begin{tabular}{lllllllllll}\n h & .model & .type & ME & RMSE & MAE & MPE & MAPE & MASE & RMSSE & ACF1\\\\\n <int> & <chr> & <chr> & <dbl> & <dbl> & <dbl> & <dbl> & <dbl> & <dbl> & <dbl> & <dbl>\\\\\n\\hline\n\t 1 & RW(temp\\_media \\textasciitilde{} drift()) & Test & 0.1275780 & 2.637200 & 2.100578 & -0.1784376 & 10.91851 & 1.534774 & 1.483226 & 0.3068485\\\\\n\t 2 & RW(temp\\_media \\textasciitilde{} drift()) & Test & 0.2988178 & 4.390662 & 3.764133 & -0.8372524 & 19.56643 & 2.750239 & 2.469416 & 0.6907249\\\\\n\t 3 & RW(temp\\_media \\textasciitilde{} drift()) & Test & 0.5241629 & 6.017084 & 5.362942 & -1.6593484 & 27.85476 & 3.918398 & 3.384155 & 0.7608784\\\\\n\\end{tabular}\n",
            "text/markdown": "\nA tibble: 3 × 11\n\n| h &lt;int&gt; | .model &lt;chr&gt; | .type &lt;chr&gt; | ME &lt;dbl&gt; | RMSE &lt;dbl&gt; | MAE &lt;dbl&gt; | MPE &lt;dbl&gt; | MAPE &lt;dbl&gt; | MASE &lt;dbl&gt; | RMSSE &lt;dbl&gt; | ACF1 &lt;dbl&gt; |\n|---|---|---|---|---|---|---|---|---|---|---|\n| 1 | RW(temp_media ~ drift()) | Test | 0.1275780 | 2.637200 | 2.100578 | -0.1784376 | 10.91851 | 1.534774 | 1.483226 | 0.3068485 |\n| 2 | RW(temp_media ~ drift()) | Test | 0.2988178 | 4.390662 | 3.764133 | -0.8372524 | 19.56643 | 2.750239 | 2.469416 | 0.6907249 |\n| 3 | RW(temp_media ~ drift()) | Test | 0.5241629 | 6.017084 | 5.362942 | -1.6593484 | 27.85476 | 3.918398 | 3.384155 | 0.7608784 |\n\n",
            "text/html": [
              "<table class=\"dataframe\">\n",
              "<caption>A tibble: 3 × 11</caption>\n",
              "<thead>\n",
              "\t<tr><th scope=col>h</th><th scope=col>.model</th><th scope=col>.type</th><th scope=col>ME</th><th scope=col>RMSE</th><th scope=col>MAE</th><th scope=col>MPE</th><th scope=col>MAPE</th><th scope=col>MASE</th><th scope=col>RMSSE</th><th scope=col>ACF1</th></tr>\n",
              "\t<tr><th scope=col>&lt;int&gt;</th><th scope=col>&lt;chr&gt;</th><th scope=col>&lt;chr&gt;</th><th scope=col>&lt;dbl&gt;</th><th scope=col>&lt;dbl&gt;</th><th scope=col>&lt;dbl&gt;</th><th scope=col>&lt;dbl&gt;</th><th scope=col>&lt;dbl&gt;</th><th scope=col>&lt;dbl&gt;</th><th scope=col>&lt;dbl&gt;</th><th scope=col>&lt;dbl&gt;</th></tr>\n",
              "</thead>\n",
              "<tbody>\n",
              "\t<tr><td>1</td><td>RW(temp_media ~ drift())</td><td>Test</td><td>0.1275780</td><td>2.637200</td><td>2.100578</td><td>-0.1784376</td><td>10.91851</td><td>1.534774</td><td>1.483226</td><td>0.3068485</td></tr>\n",
              "\t<tr><td>2</td><td>RW(temp_media ~ drift())</td><td>Test</td><td>0.2988178</td><td>4.390662</td><td>3.764133</td><td>-0.8372524</td><td>19.56643</td><td>2.750239</td><td>2.469416</td><td>0.6907249</td></tr>\n",
              "\t<tr><td>3</td><td>RW(temp_media ~ drift())</td><td>Test</td><td>0.5241629</td><td>6.017084</td><td>5.362942</td><td>-1.6593484</td><td>27.85476</td><td>3.918398</td><td>3.384155</td><td>0.7608784</td></tr>\n",
              "</tbody>\n",
              "</table>\n"
            ]
          },
          "metadata": {}
        }
      ]
    },
    {
      "cell_type": "markdown",
      "source": [
        "##### Tanto o MAE quanto o RMSE expressam o erro médio de previsão do modelo em unidades da variável de interesse. Logo, o modelo em aula foi mais eficaz, pois pontuou menos na unidade de medida da variável de interesse."
      ],
      "metadata": {
        "id": "XQGta7dT6o_C"
      }
    }
  ]
}